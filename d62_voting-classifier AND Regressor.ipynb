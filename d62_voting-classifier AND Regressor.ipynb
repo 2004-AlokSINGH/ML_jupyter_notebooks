{
 "cells": [
  {
   "cell_type": "markdown",
   "id": "2337290a",
   "metadata": {},
   "source": [
    "# classifier -- https://www.kaggle.com/code/aloksingh00001/voting-classifier-iris/edit"
   ]
  },
  {
   "cell_type": "markdown",
   "id": "3ab1bfca",
   "metadata": {},
   "source": []
  }
 ],
 "metadata": {
  "kernelspec": {
   "display_name": "Python 3 (ipykernel)",
   "language": "python",
   "name": "python3"
  },
  "language_info": {
   "codemirror_mode": {
    "name": "ipython",
    "version": 3
   },
   "file_extension": ".py",
   "mimetype": "text/x-python",
   "name": "python",
   "nbconvert_exporter": "python",
   "pygments_lexer": "ipython3",
   "version": "3.10.9"
  }
 },
 "nbformat": 4,
 "nbformat_minor": 5
}
