{
 "cells": [
  {
   "cell_type": "code",
   "execution_count": 1,
   "id": "929bcfbb",
   "metadata": {},
   "outputs": [],
   "source": [
    "import numpy as np # linear algebra\n",
    "import pandas as pd\n"
   ]
  },
  {
   "cell_type": "code",
   "execution_count": 2,
   "id": "47ba6243",
   "metadata": {},
   "outputs": [],
   "source": [
    "t_df=pd.read_csv(\"Downloads/test.csv\")"
   ]
  },
  {
   "cell_type": "code",
   "execution_count": 3,
   "id": "6ddbb2e8",
   "metadata": {},
   "outputs": [],
   "source": [
    "tdf=pd.read_csv(\"Downloads/test.csv\")"
   ]
  },
  {
   "cell_type": "code",
   "execution_count": 4,
   "id": "dbfd1827",
   "metadata": {},
   "outputs": [],
   "source": [
    "df_id = (tdf['PassengerId'])"
   ]
  },
  {
   "cell_type": "code",
   "execution_count": 5,
   "id": "1d99b4c7",
   "metadata": {},
   "outputs": [],
   "source": [
    "df=pd.read_csv(\"Downloads/train.csv\")"
   ]
  },
  {
   "cell_type": "code",
   "execution_count": 6,
   "id": "0d1984e3",
   "metadata": {},
   "outputs": [],
   "source": [
    "df=df.drop(['Ticket','Cabin','Name','PassengerId'],axis=1)\n",
    "t_df=t_df.drop(['Ticket','Cabin','Name','PassengerId'],axis=1)"
   ]
  },
  {
   "cell_type": "code",
   "execution_count": 7,
   "id": "a98deb3e",
   "metadata": {},
   "outputs": [],
   "source": [
    "cols=['SibSp','Parch','Fare','Age']\n",
    "for col in cols:\n",
    "    df[col].fillna(df[col].median(),inplace=True)\n",
    "    t_df[col].fillna(t_df[col].median(),inplace=True)"
   ]
  },
  {
   "cell_type": "code",
   "execution_count": 8,
   "id": "c31d8600",
   "metadata": {},
   "outputs": [],
   "source": [
    "df.Embarked.fillna(\"U\",inplace=True)\n",
    "t_df.Embarked.fillna(\"U\",inplace=True)"
   ]
  },
  {
   "cell_type": "code",
   "execution_count": 9,
   "id": "ca775775",
   "metadata": {},
   "outputs": [],
   "source": [
    "from sklearn import preprocessing\n",
    "le=preprocessing.LabelEncoder()\n",
    "\n",
    "cols=['Sex','Embarked']\n",
    "\n",
    "for c in cols:\n",
    "    df[c]=le.fit_transform(df[c])\n",
    "    \n",
    "    t_df[c]=le.transform(t_df[c])"
   ]
  },
  {
   "cell_type": "code",
   "execution_count": 10,
   "id": "2585a676",
   "metadata": {},
   "outputs": [],
   "source": [
    "from sklearn.tree import DecisionTreeClassifier\n",
    "from sklearn.linear_model import LogisticRegression\n",
    "lr=LogisticRegression()\n",
    "clf= DecisionTreeClassifier(criterion='entropy', random_state=0)"
   ]
  },
  {
   "cell_type": "code",
   "execution_count": 11,
   "id": "170ef8db",
   "metadata": {},
   "outputs": [],
   "source": [
    "from sklearn.model_selection import train_test_split\n",
    "y=df['Survived']\n",
    "X=df.drop(\"Survived\",axis=1)"
   ]
  },
  {
   "cell_type": "code",
   "execution_count": 12,
   "id": "7581bc4c",
   "metadata": {},
   "outputs": [],
   "source": [
    " X_train,X_test,y_train,y_test=train_test_split(X, y, test_size= 0.2, random_state=0)  "
   ]
  },
  {
   "cell_type": "code",
   "execution_count": 13,
   "id": "fc251d81",
   "metadata": {},
   "outputs": [],
   "source": [
    "clf=LogisticRegression(random_state=0,max_iter=1000).fit(X_train,y_train)"
   ]
  },
  {
   "cell_type": "code",
   "execution_count": 16,
   "id": "9215fe49",
   "metadata": {},
   "outputs": [],
   "source": [
    "pred=clf.predict(X_test)"
   ]
  },
  {
   "cell_type": "code",
   "execution_count": 17,
   "id": "c523633c",
   "metadata": {},
   "outputs": [
    {
     "data": {
      "text/plain": [
       "0.7988826815642458"
      ]
     },
     "execution_count": 17,
     "metadata": {},
     "output_type": "execute_result"
    }
   ],
   "source": [
    "from sklearn.metrics import accuracy_score\n",
    "accuracy_score(y_test,pred)"
   ]
  },
  {
   "cell_type": "code",
   "execution_count": 18,
   "id": "fe43bc41",
   "metadata": {},
   "outputs": [],
   "source": [
    "sub_pred=clf.predict(t_df)"
   ]
  },
  {
   "cell_type": "code",
   "execution_count": 19,
   "id": "50c04574",
   "metadata": {},
   "outputs": [],
   "source": [
    "df=pd.DataFrame({\"PassengerId\":df_id.values,\n",
    "                \"Survived\":sub_pred})"
   ]
  },
  {
   "cell_type": "code",
   "execution_count": 20,
   "id": "5c6f7b16",
   "metadata": {},
   "outputs": [],
   "source": [
    "df.to_csv(\"kaggle1.csv\",index=False)"
   ]
  },
  {
   "cell_type": "code",
   "execution_count": null,
   "id": "a0e0163d",
   "metadata": {},
   "outputs": [],
   "source": []
  }
 ],
 "metadata": {
  "kernelspec": {
   "display_name": "Python 3 (ipykernel)",
   "language": "python",
   "name": "python3"
  },
  "language_info": {
   "codemirror_mode": {
    "name": "ipython",
    "version": 3
   },
   "file_extension": ".py",
   "mimetype": "text/x-python",
   "name": "python",
   "nbconvert_exporter": "python",
   "pygments_lexer": "ipython3",
   "version": "3.10.9"
  }
 },
 "nbformat": 4,
 "nbformat_minor": 5
}
