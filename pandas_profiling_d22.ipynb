{
 "cells": [
  {
   "cell_type": "code",
   "execution_count": 1,
   "id": "3275799f",
   "metadata": {},
   "outputs": [
    {
     "name": "stdout",
     "output_type": "stream",
     "text": [
      "Requirement already satisfied: pandas-profiling in c:\\users\\alok singh\\anaconda3\\lib\\site-packages (3.6.6)\n",
      "Requirement already satisfied: ydata-profiling in c:\\users\\alok singh\\anaconda3\\lib\\site-packages (from pandas-profiling) (4.3.1)\n",
      "Requirement already satisfied: multimethod<2,>=1.4 in c:\\users\\alok singh\\anaconda3\\lib\\site-packages (from ydata-profiling->pandas-profiling) (1.9.1)\n",
      "Requirement already satisfied: scipy<1.11,>=1.4.1 in c:\\users\\alok singh\\anaconda3\\lib\\site-packages (from ydata-profiling->pandas-profiling) (1.10.0)\n",
      "Requirement already satisfied: PyYAML<6.1,>=5.0.0 in c:\\users\\alok singh\\anaconda3\\lib\\site-packages (from ydata-profiling->pandas-profiling) (6.0)\n",
      "Requirement already satisfied: wordcloud>=1.9.1 in c:\\users\\alok singh\\anaconda3\\lib\\site-packages (from ydata-profiling->pandas-profiling) (1.9.2)\n",
      "Requirement already satisfied: requests<3,>=2.24.0 in c:\\users\\alok singh\\anaconda3\\lib\\site-packages (from ydata-profiling->pandas-profiling) (2.28.1)\n",
      "Requirement already satisfied: dacite>=1.8 in c:\\users\\alok singh\\anaconda3\\lib\\site-packages (from ydata-profiling->pandas-profiling) (1.8.1)\n",
      "Requirement already satisfied: pydantic<2,>=1.8.1 in c:\\users\\alok singh\\anaconda3\\lib\\site-packages (from ydata-profiling->pandas-profiling) (1.10.11)\n",
      "Requirement already satisfied: htmlmin==0.1.12 in c:\\users\\alok singh\\anaconda3\\lib\\site-packages (from ydata-profiling->pandas-profiling) (0.1.12)\n",
      "Requirement already satisfied: phik<0.13,>=0.11.1 in c:\\users\\alok singh\\anaconda3\\lib\\site-packages (from ydata-profiling->pandas-profiling) (0.12.3)\n",
      "Requirement already satisfied: typeguard<3,>=2.13.2 in c:\\users\\alok singh\\anaconda3\\lib\\site-packages (from ydata-profiling->pandas-profiling) (2.13.3)\n",
      "Requirement already satisfied: visions[type_image_path]==0.7.5 in c:\\users\\alok singh\\anaconda3\\lib\\site-packages (from ydata-profiling->pandas-profiling) (0.7.5)\n",
      "Requirement already satisfied: matplotlib<4,>=3.2 in c:\\users\\alok singh\\anaconda3\\lib\\site-packages (from ydata-profiling->pandas-profiling) (3.7.0)\n",
      "Requirement already satisfied: tqdm<5,>=4.48.2 in c:\\users\\alok singh\\anaconda3\\lib\\site-packages (from ydata-profiling->pandas-profiling) (4.64.1)\n",
      "Requirement already satisfied: jinja2<3.2,>=2.11.1 in c:\\users\\alok singh\\anaconda3\\lib\\site-packages (from ydata-profiling->pandas-profiling) (3.1.2)\n",
      "Requirement already satisfied: statsmodels<1,>=0.13.2 in c:\\users\\alok singh\\anaconda3\\lib\\site-packages (from ydata-profiling->pandas-profiling) (0.13.5)\n",
      "Requirement already satisfied: seaborn<0.13,>=0.10.1 in c:\\users\\alok singh\\anaconda3\\lib\\site-packages (from ydata-profiling->pandas-profiling) (0.12.2)\n",
      "Requirement already satisfied: numpy<1.24,>=1.16.0 in c:\\users\\alok singh\\anaconda3\\lib\\site-packages (from ydata-profiling->pandas-profiling) (1.23.5)\n",
      "Requirement already satisfied: imagehash==4.3.1 in c:\\users\\alok singh\\anaconda3\\lib\\site-packages (from ydata-profiling->pandas-profiling) (4.3.1)\n",
      "Requirement already satisfied: pandas!=1.4.0,<2.1,>1.1 in c:\\users\\alok singh\\anaconda3\\lib\\site-packages (from ydata-profiling->pandas-profiling) (1.5.3)\n",
      "Requirement already satisfied: PyWavelets in c:\\users\\alok singh\\anaconda3\\lib\\site-packages (from imagehash==4.3.1->ydata-profiling->pandas-profiling) (1.4.1)\n",
      "Requirement already satisfied: pillow in c:\\users\\alok singh\\anaconda3\\lib\\site-packages (from imagehash==4.3.1->ydata-profiling->pandas-profiling) (9.4.0)\n",
      "Requirement already satisfied: networkx>=2.4 in c:\\users\\alok singh\\anaconda3\\lib\\site-packages (from visions[type_image_path]==0.7.5->ydata-profiling->pandas-profiling) (2.8.4)\n",
      "Requirement already satisfied: tangled-up-in-unicode>=0.0.4 in c:\\users\\alok singh\\anaconda3\\lib\\site-packages (from visions[type_image_path]==0.7.5->ydata-profiling->pandas-profiling) (0.2.0)\n",
      "Requirement already satisfied: attrs>=19.3.0 in c:\\users\\alok singh\\anaconda3\\lib\\site-packages (from visions[type_image_path]==0.7.5->ydata-profiling->pandas-profiling) (22.1.0)\n",
      "Requirement already satisfied: MarkupSafe>=2.0 in c:\\users\\alok singh\\anaconda3\\lib\\site-packages (from jinja2<3.2,>=2.11.1->ydata-profiling->pandas-profiling) (2.1.1)\n",
      "Requirement already satisfied: python-dateutil>=2.7 in c:\\users\\alok singh\\anaconda3\\lib\\site-packages (from matplotlib<4,>=3.2->ydata-profiling->pandas-profiling) (2.8.2)\n",
      "Requirement already satisfied: kiwisolver>=1.0.1 in c:\\users\\alok singh\\anaconda3\\lib\\site-packages (from matplotlib<4,>=3.2->ydata-profiling->pandas-profiling) (1.4.4)\n",
      "Requirement already satisfied: fonttools>=4.22.0 in c:\\users\\alok singh\\anaconda3\\lib\\site-packages (from matplotlib<4,>=3.2->ydata-profiling->pandas-profiling) (4.25.0)\n",
      "Requirement already satisfied: contourpy>=1.0.1 in c:\\users\\alok singh\\anaconda3\\lib\\site-packages (from matplotlib<4,>=3.2->ydata-profiling->pandas-profiling) (1.0.5)\n",
      "Requirement already satisfied: pyparsing>=2.3.1 in c:\\users\\alok singh\\anaconda3\\lib\\site-packages (from matplotlib<4,>=3.2->ydata-profiling->pandas-profiling) (3.0.9)\n",
      "Requirement already satisfied: cycler>=0.10 in c:\\users\\alok singh\\anaconda3\\lib\\site-packages (from matplotlib<4,>=3.2->ydata-profiling->pandas-profiling) (0.11.0)\n",
      "Requirement already satisfied: packaging>=20.0 in c:\\users\\alok singh\\anaconda3\\lib\\site-packages (from matplotlib<4,>=3.2->ydata-profiling->pandas-profiling) (22.0)\n",
      "Requirement already satisfied: pytz>=2020.1 in c:\\users\\alok singh\\anaconda3\\lib\\site-packages (from pandas!=1.4.0,<2.1,>1.1->ydata-profiling->pandas-profiling) (2022.7)\n",
      "Requirement already satisfied: joblib>=0.14.1 in c:\\users\\alok singh\\anaconda3\\lib\\site-packages (from phik<0.13,>=0.11.1->ydata-profiling->pandas-profiling) (1.1.1)\n",
      "Requirement already satisfied: typing-extensions>=4.2.0 in c:\\users\\alok singh\\anaconda3\\lib\\site-packages (from pydantic<2,>=1.8.1->ydata-profiling->pandas-profiling) (4.4.0)\n",
      "Requirement already satisfied: idna<4,>=2.5 in c:\\users\\alok singh\\anaconda3\\lib\\site-packages (from requests<3,>=2.24.0->ydata-profiling->pandas-profiling) (3.4)\n",
      "Requirement already satisfied: certifi>=2017.4.17 in c:\\users\\alok singh\\anaconda3\\lib\\site-packages (from requests<3,>=2.24.0->ydata-profiling->pandas-profiling) (2022.12.7)\n",
      "Requirement already satisfied: charset-normalizer<3,>=2 in c:\\users\\alok singh\\anaconda3\\lib\\site-packages (from requests<3,>=2.24.0->ydata-profiling->pandas-profiling) (2.0.4)\n",
      "Requirement already satisfied: urllib3<1.27,>=1.21.1 in c:\\users\\alok singh\\anaconda3\\lib\\site-packages (from requests<3,>=2.24.0->ydata-profiling->pandas-profiling) (1.26.14)\n",
      "Requirement already satisfied: patsy>=0.5.2 in c:\\users\\alok singh\\anaconda3\\lib\\site-packages (from statsmodels<1,>=0.13.2->ydata-profiling->pandas-profiling) (0.5.3)\n",
      "Requirement already satisfied: colorama in c:\\users\\alok singh\\anaconda3\\lib\\site-packages (from tqdm<5,>=4.48.2->ydata-profiling->pandas-profiling) (0.4.6)\n",
      "Requirement already satisfied: six in c:\\users\\alok singh\\anaconda3\\lib\\site-packages (from patsy>=0.5.2->statsmodels<1,>=0.13.2->ydata-profiling->pandas-profiling) (1.16.0)\n"
     ]
    }
   ],
   "source": [
    "!pip install pandas-profiling"
   ]
  },
  {
   "cell_type": "code",
   "execution_count": 2,
   "id": "018925f8",
   "metadata": {},
   "outputs": [],
   "source": [
    "import pandas as pd\n",
    "df=pd.read_csv(\"dataset/train.csv\")"
   ]
  },
  {
   "cell_type": "code",
   "execution_count": 3,
   "id": "e408acf7",
   "metadata": {},
   "outputs": [
    {
     "name": "stderr",
     "output_type": "stream",
     "text": [
      "C:\\Users\\ALOK SINGH\\AppData\\Local\\Temp\\ipykernel_18512\\867096850.py:1: DeprecationWarning: `import pandas_profiling` is going to be deprecated by April 1st. Please use `import ydata_profiling` instead.\n",
      "  from pandas_profiling import ProfileReport\n"
     ]
    },
    {
     "data": {
      "application/vnd.jupyter.widget-view+json": {
       "model_id": "6529a7f52f6c4751a951dc63b07a9764",
       "version_major": 2,
       "version_minor": 0
      },
      "text/plain": [
       "Summarize dataset:   0%|          | 0/5 [00:00<?, ?it/s]"
      ]
     },
     "metadata": {},
     "output_type": "display_data"
    },
    {
     "data": {
      "application/vnd.jupyter.widget-view+json": {
       "model_id": "e72105adc79147b88817727db3444d67",
       "version_major": 2,
       "version_minor": 0
      },
      "text/plain": [
       "Generate report structure:   0%|          | 0/1 [00:00<?, ?it/s]"
      ]
     },
     "metadata": {},
     "output_type": "display_data"
    },
    {
     "data": {
      "application/vnd.jupyter.widget-view+json": {
       "model_id": "852177b4e3764ae384f5260c58fa11cf",
       "version_major": 2,
       "version_minor": 0
      },
      "text/plain": [
       "Render HTML:   0%|          | 0/1 [00:00<?, ?it/s]"
      ]
     },
     "metadata": {},
     "output_type": "display_data"
    },
    {
     "data": {
      "application/vnd.jupyter.widget-view+json": {
       "model_id": "7b9c7188daec4f82ad883b801eb4b86f",
       "version_major": 2,
       "version_minor": 0
      },
      "text/plain": [
       "Export report to file:   0%|          | 0/1 [00:00<?, ?it/s]"
      ]
     },
     "metadata": {},
     "output_type": "display_data"
    }
   ],
   "source": [
    "from pandas_profiling import ProfileReport\n",
    "prof=ProfileReport(df)\n",
    "prof.to_file(output_file='output.html')"
   ]
  },
  {
   "cell_type": "code",
   "execution_count": 7,
   "id": "6b81243a",
   "metadata": {},
   "outputs": [],
   "source": [
    "import pandas as pd\n",
    "df1=pd.read_json(\"dataset/countries-table.json\")"
   ]
  },
  {
   "cell_type": "code",
   "execution_count": 8,
   "id": "4bc52868",
   "metadata": {},
   "outputs": [
    {
     "data": {
      "application/vnd.jupyter.widget-view+json": {
       "model_id": "4d803ba4858248d590357a11daaac275",
       "version_major": 2,
       "version_minor": 0
      },
      "text/plain": [
       "Summarize dataset:   0%|          | 0/5 [00:00<?, ?it/s]"
      ]
     },
     "metadata": {},
     "output_type": "display_data"
    },
    {
     "data": {
      "application/vnd.jupyter.widget-view+json": {
       "model_id": "705953c5dc0e4224b56de07e9548c1f2",
       "version_major": 2,
       "version_minor": 0
      },
      "text/plain": [
       "Generate report structure:   0%|          | 0/1 [00:00<?, ?it/s]"
      ]
     },
     "metadata": {},
     "output_type": "display_data"
    },
    {
     "data": {
      "application/vnd.jupyter.widget-view+json": {
       "model_id": "5cc2bd7f082d4345a6340e30638e2c41",
       "version_major": 2,
       "version_minor": 0
      },
      "text/plain": [
       "Render HTML:   0%|          | 0/1 [00:00<?, ?it/s]"
      ]
     },
     "metadata": {},
     "output_type": "display_data"
    },
    {
     "data": {
      "application/vnd.jupyter.widget-view+json": {
       "model_id": "08f43df7c4d7497ea5f2b85095b9d8e6",
       "version_major": 2,
       "version_minor": 0
      },
      "text/plain": [
       "Export report to file:   0%|          | 0/1 [00:00<?, ?it/s]"
      ]
     },
     "metadata": {},
     "output_type": "display_data"
    }
   ],
   "source": [
    "from pandas_profiling import ProfileReport\n",
    "prof=ProfileReport(df1)\n",
    "prof.to_file(output_file='world.html')"
   ]
  },
  {
   "cell_type": "code",
   "execution_count": null,
   "id": "f5cda598",
   "metadata": {},
   "outputs": [],
   "source": []
  }
 ],
 "metadata": {
  "kernelspec": {
   "display_name": "Python 3 (ipykernel)",
   "language": "python",
   "name": "python3"
  },
  "language_info": {
   "codemirror_mode": {
    "name": "ipython",
    "version": 3
   },
   "file_extension": ".py",
   "mimetype": "text/x-python",
   "name": "python",
   "nbconvert_exporter": "python",
   "pygments_lexer": "ipython3",
   "version": "3.10.9"
  }
 },
 "nbformat": 4,
 "nbformat_minor": 5
}
